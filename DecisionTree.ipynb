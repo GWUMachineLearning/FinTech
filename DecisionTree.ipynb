{
 "cells": [
  {
   "cell_type": "code",
   "execution_count": null,
   "metadata": {
    "collapsed": true
   },
   "outputs": [],
   "source": [
    "import numpy as np\n",
    "import pandas as pd\n",
    "from sklearn.cross_validation import train_test_split as tts\n",
    "from sklearn.tree import DecisionTreeRegressor\n",
    "\n",
    "df = pd.read_csv('test.csv')\n",
    "y=np.array(df['GEI Score'])\n",
    "features=list(df.columns[3:6])\n",
    "x=np.array(df[features])\n",
    "x_train, x_test, y_train, y_test = tts(x,y, test_size=0.33, random_state=42) \n",
    "\n",
    "regressor = DecisionTreeRegressor(random_state=42)\n",
    "tree=regressor.fit(x_train, y_train)\n",
    "y_pred=tree.predict(x_test)\n",
    "\n",
    "score=tree.score(x_test,y_test)\n",
    "print(score)"
   ]
  }
 ],
 "metadata": {
  "kernelspec": {
   "display_name": "Python 3",
   "language": "python",
   "name": "python3"
  },
  "language_info": {
   "codemirror_mode": {
    "name": "ipython",
    "version": 3
   },
   "file_extension": ".py",
   "mimetype": "text/x-python",
   "name": "python",
   "nbconvert_exporter": "python",
   "pygments_lexer": "ipython3",
   "version": "3.5.2"
  }
 },
 "nbformat": 4,
 "nbformat_minor": 1
}
